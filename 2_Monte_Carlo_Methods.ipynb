{
 "cells": [
  {
   "cell_type": "markdown",
   "metadata": {},
   "source": [
    "![](imgs/blackjack.jpg)\n",
    "# Monte Carlo Methods\n",
    "\n",
    "In this notebook, we will learn Monte Carlo Methods using Blackjack environment from OpenAI Gym. You can find more about this environment [here](https://github.com/openai/gym/blob/master/gym/envs/toy_text/blackjack.py).\n",
    "\n",
    "## Table of Contents\n",
    "\n",
    "- [BlackJack Env](#bj_env)\n",
    "- [Monte Carlo Prediction](#mc_prediction)\n",
    "- [Monte Carlo Control](#mc_control)\n",
    "- [References](#references)\n",
    "- [Further Resources](#resources)"
   ]
  },
  {
   "cell_type": "markdown",
   "metadata": {},
   "source": [
    "<a id=bj_env></a>\n",
    "## BlackJack Env\n",
    "\n",
    "Lets explore gym blackjack environment. We begin by importing the necessary modules and packages."
   ]
  },
  {
   "cell_type": "code",
   "execution_count": 8,
   "metadata": {},
   "outputs": [],
   "source": [
    "import gym\n",
    "import numpy as np\n",
    "from collections import defaultdict\n",
    "import seaborn as sns\n",
    "import matplotlib.pyplot as plt\n",
    "from matplotlib.colors import LinearSegmentedColormap\n",
    "from utilities import plot_v, plot_policy"
   ]
  },
  {
   "cell_type": "markdown",
   "metadata": {},
   "source": [
    "We can create an instance of the blackjack env by calling `gym.make('Blackjack-v0')`."
   ]
  },
  {
   "cell_type": "code",
   "execution_count": 2,
   "metadata": {},
   "outputs": [],
   "source": [
    "env = gym.make('Blackjack-v0')"
   ]
  },
  {
   "cell_type": "markdown",
   "metadata": {},
   "source": [
    "Now, lets find the details information of observation and action spaces."
   ]
  },
  {
   "cell_type": "code",
   "execution_count": 3,
   "metadata": {},
   "outputs": [
    {
     "data": {
      "text/plain": [
       "Tuple(Discrete(32), Discrete(11), Discrete(2))"
      ]
     },
     "execution_count": 3,
     "metadata": {},
     "output_type": "execute_result"
    }
   ],
   "source": [
    "env.observation_space"
   ]
  },
  {
   "cell_type": "code",
   "execution_count": 4,
   "metadata": {},
   "outputs": [
    {
     "data": {
      "text/plain": [
       "Discrete(2)"
      ]
     },
     "execution_count": 4,
     "metadata": {},
     "output_type": "execute_result"
    }
   ],
   "source": [
    "env.action_space"
   ]
  },
  {
   "cell_type": "markdown",
   "metadata": {},
   "source": [
    "Observation space (State) is a tuple of three discrete spaces. You can find the details information of the observation space of blackjack env [here](https://github.com/openai/gym/blob/master/gym/envs/toy_text/blackjack.py#L66).\n",
    "\n",
    "- the players current sum $\\in \\{0, 1, \\ldots, 31\\}$\n",
    "- the dealer's one showing card $\\in \\{1, 2, \\ldots, 10\\}$\n",
    "- the player holds a usable ace or not (0 = `false` or 1 = `true`)\n",
    "\n",
    "Action space consists of two discrete values. You can find the details information of the action space of blackjack env [here](https://github.com/openai/gym/blob/master/gym/envs/toy_text/blackjack.py#L56).\n",
    "\n",
    "- 0 = `STICK`\n",
    "- 1 = `HIT`"
   ]
  },
  {
   "cell_type": "markdown",
   "metadata": {},
   "source": [
    "Before training our agent with Monte Carlo Methods, lets play blackjack with a random policy."
   ]
  },
  {
   "cell_type": "code",
   "execution_count": 5,
   "metadata": {},
   "outputs": [
    {
     "name": "stdout",
     "output_type": "stream",
     "text": [
      "(12, 1, False)\n",
      "End game! Reward:  -1.0\n",
      "You lost :(\n",
      "\n",
      "(14, 5, False)\n",
      "(15, 5, False)\n",
      "End game! Reward:  -1.0\n",
      "You lost :(\n",
      "\n"
     ]
    }
   ],
   "source": [
    "# number of episodes to play\n",
    "num_of_games = 2\n",
    "\n",
    "for episode in range(num_of_games):\n",
    "    \n",
    "    # initialize the env\n",
    "    state = env.reset()\n",
    "    while True:\n",
    "        \n",
    "        # print current observation state\n",
    "        print(state)\n",
    "        \n",
    "        # select action (hit or stick) randomly\n",
    "        action = env.action_space.sample()\n",
    "        \n",
    "        # interacts with the env\n",
    "        state, reward, done, info = env.step(action)\n",
    "        \n",
    "        # break loop if wins or lose\n",
    "        if done:\n",
    "            print('End game! Reward: ', reward)\n",
    "            print('You won :)\\n') if reward > 0 else print('You lost :(\\n')\n",
    "            break"
   ]
  },
  {
   "cell_type": "markdown",
   "metadata": {},
   "source": [
    "<a id=mc_prediction></a>\n",
    "## Monte Carlo Prediction\n",
    "\n",
    "We begin Monte Carlo Methods by implementing `Every-visit` and `First-visit` MC Prediction algorithms for action-values. "
   ]
  },
  {
   "cell_type": "markdown",
   "metadata": {},
   "source": [
    "We will closely follow the example (5.1) of Sutton and Barto text book. \n",
    "\n",
    "> We begin by considering a policy that `sticks` if the player's sum is 20 or 21, and otherwise `hits`.\n",
    "\n",
    "The following function implements this policy. The function accepts an instance of OpenAI Gym's Blackjack environment as an input and returns an episode as an output which is a list of (state, actions and rewards) tuples.\n"
   ]
  },
  {
   "cell_type": "code",
   "execution_count": 6,
   "metadata": {},
   "outputs": [],
   "source": [
    "def play_single_episode(env):\n",
    "    \n",
    "    episode = []\n",
    "    state = env.reset()\n",
    "    \n",
    "    while True:\n",
    "        # custom policy\n",
    "        action = 0 if state[0] >= 20 else 1\n",
    "        \n",
    "        next_state, reward, done, info = env.step(action)\n",
    "        episode.append((state, action, reward)) # (S0, A0, R1), (S1, A1, R2), ...\n",
    "        state = next_state\n",
    "        \n",
    "        if done:\n",
    "            break\n",
    "    return episode"
   ]
  },
  {
   "cell_type": "markdown",
   "metadata": {},
   "source": [
    "Lets play Blackjack with the implemented policy."
   ]
  },
  {
   "cell_type": "code",
   "execution_count": 7,
   "metadata": {},
   "outputs": [
    {
     "name": "stdout",
     "output_type": "stream",
     "text": [
      "[((16, 10, False), 1, -1.0)]\n",
      "[((15, 3, False), 1, 0.0), ((17, 3, False), 1, 0.0), ((18, 3, False), 1, -1.0)]\n",
      "[((12, 4, False), 1, -1.0)]\n"
     ]
    }
   ],
   "source": [
    "env = gym.make('Blackjack-v0')\n",
    "\n",
    "num_of_games = 3\n",
    "for i in range(num_of_games):\n",
    "    print(play_single_episode(env))"
   ]
  },
  {
   "cell_type": "markdown",
   "metadata": {},
   "source": [
    "Now, we are ready to implement our **MC Prediction** algorithm. We will start with **Every-Visit MC Prediction**, which is easier to understand and implement. The pseudocode below is used to implement our algorithm.\n",
    "\n",
    "![](imgs/every-visit-prediction.jpeg)\n",
    "\n",
    "We will call this function `every_visit_mc_prediction`.\n",
    "\n",
    "The function accepts four input arguments:\n",
    "\n",
    "- `env`: an instance of OpenAI Gym's Blackjack environment\n",
    "- `num_of_episodes`: number of episodes to play\n",
    "- `episode_generator`: generate an episode of $(S_{i-1}, A_{i-1} , R_i)$ tuples using custom policy\n",
    "- `gamma`: discount rate (default = 1.0)\n",
    "\n",
    "The function returns an action-value:\n",
    "\n",
    "- `Q`: Q-Table of state, action pairs $Q(s,a)$"
   ]
  },
  {
   "cell_type": "code",
   "execution_count": 9,
   "metadata": {},
   "outputs": [],
   "source": [
    "def every_visit_mc_prediction(env, num_of_episodes, episode_generator, gamma=1.0):\n",
    "    \n",
    "    # initialize empty dictionaries of arrays\n",
    "    N = defaultdict(lambda: np.zeros(env.action_space.n))\n",
    "    Q = defaultdict(lambda: np.zeros(env.action_space.n))\n",
    "    Returns = defaultdict(lambda: np.zeros(env.action_space.n))\n",
    "    \n",
    "    for i in range(1, num_of_episodes+1):\n",
    "        # generate a single episode (S0, A0, R1,..., ST, AT, RT)\n",
    "        episode = episode_generator(env)\n",
    "        \n",
    "        # for each tuple in episode\n",
    "        for i, (s, a, r) in enumerate(episode):\n",
    "            \n",
    "            # calculate expected discounted return G \n",
    "            # from current state onwards        \n",
    "            G = sum([x[2]*(gamma**i) for i,x in enumerate(episode[i:])])\n",
    "            \n",
    "            Returns[s][a] += G\n",
    "            N[s][a] += 1.0\n",
    "            Q[s][a] = Returns[s][a] / N[s][a]\n",
    "\n",
    "    return Q"
   ]
  },
  {
   "cell_type": "markdown",
   "metadata": {},
   "source": [
    "Lets run our *Every-Visit MC Prediction* algorithm. Set the desired number of episodes."
   ]
  },
  {
   "cell_type": "code",
   "execution_count": 10,
   "metadata": {},
   "outputs": [],
   "source": [
    "env.seed(0)\n",
    "num_of_episodes = 10000\n",
    "\n",
    "# run every-visit mc prediction algorithm for n episodes\n",
    "Q = every_visit_mc_prediction(env, num_of_episodes, play_single_episode)"
   ]
  },
  {
   "cell_type": "markdown",
   "metadata": {},
   "source": [
    "Now, lets plot our predicted state-value function using our test policy."
   ]
  },
  {
   "cell_type": "code",
   "execution_count": 11,
   "metadata": {},
   "outputs": [
    {
     "data": {
      "image/png": "[encoded data removed]",
      "text/plain": [
       "<Figure size 864x432 with 4 Axes>"
      ]
     },
     "metadata": {
      "needs_background": "light"
     },
     "output_type": "display_data"
    }
   ],
   "source": [
    "# obtain the corresponding state-value function for our test policy\n",
    "V = dict((k, (k[0]>=20)*v[0] + (k[0]<20)*v[1]) for k, v in Q.items())\n",
    "\n",
    "# plot the state-value function heatmap\n",
    "plot_v(V)"
   ]
  },
  {
   "cell_type": "markdown",
   "metadata": {},
   "source": [
    "We can also test the **First-Visit MC Prediction** algorithm by using the pseudocode provided below.\n",
    "\n",
    "![](imgs/first-visit-prediction.jpeg)\n",
    "\n",
    "We will call this function `first_visit_mc_prediction`."
   ]
  },
  {
   "cell_type": "code",
   "execution_count": 12,
   "metadata": {},
   "outputs": [],
   "source": [
    "def first_visit_mc_prediction(env, num_of_episodes, episode_generator, gamma=1.0):\n",
    "    \n",
    "    # initialize empty dictionaries of arrays\n",
    "    N = defaultdict(lambda: np.zeros(env.action_space.n))\n",
    "    Q = defaultdict(lambda: np.zeros(env.action_space.n))\n",
    "    Returns = defaultdict(lambda: np.zeros(env.action_space.n))\n",
    "    \n",
    "    for i in range(1, num_of_episodes+1):\n",
    "        # generate a single episode (S0, A0, R1,..., ST, AT, RT)\n",
    "        episode = episode_generator(env)\n",
    "        \n",
    "        # create first-visit-check set\n",
    "        first_visit_check = set()\n",
    "        \n",
    "        # for each tuple in episode\n",
    "        for i, (s, a, r) in enumerate(episode):\n",
    "            \n",
    "            # if s is already in visit-check set\n",
    "            if s in first_visit_check:\n",
    "                # skip this state\n",
    "                continue\n",
    "                \n",
    "            # add state to set\n",
    "            first_visit_check.add(s)\n",
    "            \n",
    "            # calculate expected discounted return G \n",
    "            # from current state onwards        \n",
    "            G = sum([x[2]*(gamma**i) for i,x in enumerate(episode[i:])])\n",
    "            \n",
    "            Returns[s][a] += G\n",
    "            N[s][a] += 1.0\n",
    "            Q[s][a] = Returns[s][a] / N[s][a]\n",
    "\n",
    "    return Q"
   ]
  },
  {
   "cell_type": "code",
   "execution_count": 13,
   "metadata": {},
   "outputs": [],
   "source": [
    "env.seed(0)\n",
    "num_of_episodes = 10000\n",
    "\n",
    "# run every-visit mc prediction algorithm for n episodes\n",
    "Q = first_visit_mc_prediction(env, num_of_episodes, play_single_episode)"
   ]
  },
  {
   "cell_type": "code",
   "execution_count": 14,
   "metadata": {},
   "outputs": [
    {
     "data": {
      "image/png": "[encoded data removed]",
      "text/plain": [
       "<Figure size 864x432 with 4 Axes>"
      ]
     },
     "metadata": {
      "needs_background": "light"
     },
     "output_type": "display_data"
    }
   ],
   "source": [
    "# obtain the corresponding state-value function for our test policy\n",
    "V = dict((k, (k[0]>=20)*v[0] + (k[0]<20)*v[1]) for k, v in Q.items())\n",
    "\n",
    "# plot the state-value function heatmap\n",
    "plot_v(V)"
   ]
  },
  {
   "cell_type": "markdown",
   "metadata": {},
   "source": [
    "<a id=mc_control></a>\n",
    "## Monte Carlo Control\n",
    "\n",
    "We just finish the first step in Generalized Policy Iteration (GPI), which is a Policy Evaluation step. We do this by implementing two different MC prediction algorithms. Lets move to the next step where we will improve our policy.\n",
    "\n",
    "In this notebook, we will implement **Every-Visit Constant-$\\alpha$ MC Control** algorithm."
   ]
  },
  {
   "cell_type": "markdown",
   "metadata": {},
   "source": [
    "### $\\epsilon$-Greedy Policy\n",
    "\n",
    "We will start by implementing the **$\\epsilon$-greedy** policy.\n",
    "\n",
    "$\\pi{(a|s)} \\leftarrow  \\begin{cases}\n",
    "    1-\\epsilon+\\epsilon/{|A(s)|} & \\text{if } a=\\text{argmax}_a Q(s,a)\\\\\n",
    "    \\epsilon/{|A(s)|}             & \\text{otherwise}\n",
    "\\end{cases}$"
   ]
  },
  {
   "cell_type": "code",
   "execution_count": 15,
   "metadata": {},
   "outputs": [
    {
     "name": "stdout",
     "output_type": "stream",
     "text": [
      "Initial Policy:  [0.25 0.25 0.25 0.25]\n"
     ]
    }
   ],
   "source": [
    "number_of_actions = 4\n",
    "\n",
    "policy = np.ones(number_of_actions) * 1/number_of_actions\n",
    "\n",
    "print(\"Initial Policy: \",policy)"
   ]
  },
  {
   "cell_type": "code",
   "execution_count": 16,
   "metadata": {},
   "outputs": [
    {
     "name": "stdout",
     "output_type": "stream",
     "text": [
      "[0.25 0.25 0.25 0.25]\n"
     ]
    }
   ],
   "source": [
    "# Choose epsilon value\n",
    "epsilon = 1\n",
    "\n",
    "# for all actions \n",
    "policy = np.ones(number_of_actions) * epsilon / number_of_actions\n",
    "\n",
    "print(policy)"
   ]
  },
  {
   "cell_type": "code",
   "execution_count": 17,
   "metadata": {},
   "outputs": [
    {
     "name": "stdout",
     "output_type": "stream",
     "text": [
      "[0.25 0.25 0.25 0.25]\n"
     ]
    }
   ],
   "source": [
    "# only for maximum action\n",
    "max_action = 3\n",
    "policy[max_action] = 1 - epsilon + (epsilon / number_of_actions)\n",
    "\n",
    "print(policy)"
   ]
  },
  {
   "cell_type": "code",
   "execution_count": 18,
   "metadata": {
    "scrolled": true
   },
   "outputs": [
    {
     "data": {
      "text/plain": [
       "3"
      ]
     },
     "execution_count": 18,
     "metadata": {},
     "output_type": "execute_result"
    }
   ],
   "source": [
    "np.random.choice(np.arange(number_of_actions), p=policy)"
   ]
  },
  {
   "cell_type": "markdown",
   "metadata": {},
   "source": [
    "We will call this function `epsilon_greedy_action`.\n",
    "\n",
    "The function accepts three input arguments:\n",
    "\n",
    "- `epsilon` (value between 0 and 1)\n",
    "- `number_of_actions` (action space size)\n",
    "- `Q` (Action-Value function)\n",
    "\n",
    "The function returns `action` index, which is chosen using the epsilon-greedy policy."
   ]
  },
  {
   "cell_type": "code",
   "execution_count": 19,
   "metadata": {},
   "outputs": [],
   "source": [
    "def epsilon_greedy_action(epsilon, number_of_actions, Q):\n",
    "    \n",
    "    policy = np.ones(number_of_actions) * epsilon / number_of_actions\n",
    "    max_action_index = np.argmax(Q)\n",
    "    policy[max_action_index] = 1 - epsilon + (epsilon / number_of_actions)\n",
    "    action = np.random.choice(np.arange(number_of_actions), p=policy)\n",
    "    \n",
    "    return action"
   ]
  },
  {
   "cell_type": "markdown",
   "metadata": {},
   "source": [
    "Lets implement similar episode generator function from MC Prediction using our epsilon-greedy policy."
   ]
  },
  {
   "cell_type": "code",
   "execution_count": 20,
   "metadata": {},
   "outputs": [],
   "source": [
    "def play_single_episode(env, Q, epsilon):\n",
    "    \n",
    "    episode = []\n",
    "    state = env.reset()\n",
    "    \n",
    "    while True:\n",
    "        # epsilon-greedy policy\n",
    "        action = epsilon_greedy_action(epsilon, env.action_space.n, Q[state])\n",
    "        \n",
    "        next_state, reward, done, info = env.step(action)\n",
    "        episode.append((state, action, reward)) # (S0, A0, R1), (S1, A1, R2), ...\n",
    "        state = next_state\n",
    "        \n",
    "        if done:\n",
    "            break\n",
    "    return episode"
   ]
  },
  {
   "cell_type": "markdown",
   "metadata": {},
   "source": [
    "### Every-Visit Constant-$\\alpha$ MC Control\n",
    "\n",
    "Now, we are ready to implement the **Every-Visit Constant-$\\alpha$ MC Control** algorithm. The pseudocode below is used to implement our algorithm.\n",
    "\n",
    "![](imgs/every-visit-control.jpeg)\n",
    "\n",
    "We will call this function `every_visit_mc_control`.\n",
    "\n",
    "The function accepts eight input arguments:\n",
    "\n",
    "- `env`: an instance of OpenAI Gym's Blackjack environment\n",
    "- `num_of_episodes`: number of episodes to play\n",
    "- `episode_generator`: generate an episode of $(S_{i-1}, A_{i-1} , R_i)$ tuples using epsilon-greedy policy\n",
    "- `alpha`: step-size parameter in update equation\n",
    "- `gamma`: discount rate (default = 1.0)\n",
    "- `epsilon`: epsilon value for policy (default = 1.0)\n",
    "- `epsilon_decay`: decay rate of the epsilon (default = 0.99999)\n",
    "- `epsilon_min`: minimum value of the epsilon (default = 0.05)\n",
    "\n",
    "The function returns an action-value:\n",
    "\n",
    "- `Q`: Q-Table of state, action pairs $Q(s,a)$"
   ]
  },
  {
   "cell_type": "code",
   "execution_count": 21,
   "metadata": {},
   "outputs": [],
   "source": [
    "def every_visit_mc_control(env, num_of_episodes, episode_generator, alpha, \n",
    "                           gamma=1.0, epsilon=1.0, \n",
    "                           epsilon_decay=0.99999, epsilon_min=0.05):\n",
    "    \n",
    "    # initialize empty dictionary Q\n",
    "    Q = defaultdict(lambda: np.zeros(env.action_space.n))\n",
    "    \n",
    "    for i in range(1, num_of_episodes+1):\n",
    "        \n",
    "        # calculate epsilon value\n",
    "        epsilon = max(epsilon*epsilon_decay, epsilon_min)\n",
    "        \n",
    "        # generate a single episode (S0, A0, R1,..., ST, AT, RT)\n",
    "        # using epsilon-greedy policy\n",
    "        episode = episode_generator(env, Q, epsilon)\n",
    "        \n",
    "        # for each tuple in episode\n",
    "        for i, (s, a, r) in enumerate(episode):\n",
    "            \n",
    "            # calculate expected discounted return G \n",
    "            # from current state onwards        \n",
    "            G = sum([x[2]*(gamma**i) for i,x in enumerate(episode[i:])])\n",
    "            \n",
    "            Q[s][a] = Q[s][a] + alpha*(G - Q[s][a])\n",
    "\n",
    "    return Q"
   ]
  },
  {
   "cell_type": "code",
   "execution_count": 22,
   "metadata": {},
   "outputs": [],
   "source": [
    "# Hyperparameters\n",
    "num_of_episodes = 10000\n",
    "alpha = 0.01\n",
    "gamma = 1.0\n",
    "epsilon = 1.0\n",
    "epsilon_decay = 0.9999\n",
    "epsilon_min = 0.09\n",
    "\n",
    "# run every-visit constant-alpha mc control algorithm\n",
    "Q = every_visit_mc_control(env, num_of_episodes, play_single_episode, alpha,\n",
    "                           gamma, epsilon, epsilon_decay, epsilon_min)"
   ]
  },
  {
   "cell_type": "code",
   "execution_count": 23,
   "metadata": {},
   "outputs": [
    {
     "data": {
      "image/png": "[encoded data removed]",
      "text/plain": [
       "<Figure size 864x432 with 4 Axes>"
      ]
     },
     "metadata": {
      "needs_background": "light"
     },
     "output_type": "display_data"
    }
   ],
   "source": [
    "# obtain the corresponding state-value function\n",
    "V = dict((k,np.max(v)) for k, v in Q.items())\n",
    "\n",
    "# plot the state-value function heatmap\n",
    "plot_v(V)"
   ]
  },
  {
   "cell_type": "code",
   "execution_count": 24,
   "metadata": {},
   "outputs": [
    {
     "data": {
      "image/png": "[encoded data removed]",
      "text/plain": [
       "<Figure size 864x432 with 3 Axes>"
      ]
     },
     "metadata": {
      "needs_background": "light"
     },
     "output_type": "display_data"
    }
   ],
   "source": [
    "# obtain the corresponding best policy\n",
    "policy = dict((k,np.argmax(v)) for k, v in Q.items())\n",
    "\n",
    "# plot the state-value function heatmap\n",
    "plot_policy(policy)"
   ]
  },
  {
   "cell_type": "markdown",
   "metadata": {},
   "source": [
    "We can refer to Figure 5.2 of the Sutton and Barto text book for true optimal policy which is shown below. Feel free to tweak around the hyperparameters and compare your results with the true optimal policy.\n",
    "\n",
    "<img src=\"imgs/optimal.png\" width=\"800\" align=\"left\">"
   ]
  },
  {
   "cell_type": "markdown",
   "metadata": {},
   "source": [
    "<a id=references></a>\n",
    "## References\n",
    "\n",
    "- [Sutton and Barto Textbook (Reinforcement Learning: An Introduction)](https://web.stanford.edu/class/psych209/Readings/SuttonBartoIPRLBook2ndEd.pdf)\n",
    "- [David Silver's Lecture (DeepMind)](https://www.youtube.com/playlist?list=PLqYmG7hTraZBiG_XpjnPrSNw-1XQaM_gB)\n",
    "- [Udacity's DeepRL Github Repo](https://github.com/udacity/deep-reinforcement-learning)"
   ]
  },
  {
   "cell_type": "markdown",
   "metadata": {},
   "source": [
    "<a id=resources></a>\n",
    "## Further Resources\n",
    "\n",
    "- [Implementation of RL algorithms Github Repo](https://github.com/dennybritz/reinforcement-learning)"
   ]
  }
 ],
 "metadata": {
  "kernelspec": {
   "display_name": "Python 3",
   "language": "python",
   "name": "python3"
  },
  "language_info": {
   "codemirror_mode": {
    "name": "ipython",
    "version": 3
   },
   "file_extension": ".py",
   "mimetype": "text/x-python",
   "name": "python",
   "nbconvert_exporter": "python",
   "pygments_lexer": "ipython3",
   "version": "3.8.5"
  }
 },
 "nbformat": 4,
 "nbformat_minor": 4
}
